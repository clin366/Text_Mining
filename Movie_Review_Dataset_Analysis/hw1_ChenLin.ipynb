{
 "cells": [
  {
   "cell_type": "markdown",
   "metadata": {},
   "source": [
    "## Import Modules and define all necessary functions "
   ]
  },
  {
   "cell_type": "code",
   "execution_count": 1,
   "metadata": {
    "collapsed": false
   },
   "outputs": [
    {
     "name": "stderr",
     "output_type": "stream",
     "text": [
      "/root/miniconda3/lib/python3.5/site-packages/sklearn/cross_validation.py:44: DeprecationWarning: This module was deprecated in version 0.18 in favor of the model_selection module into which all the refactored classes and functions are moved. Also note that the interface of the new CV iterators are different from that of this module. This module will be removed in 0.20.\n",
      "  \"This module will be removed in 0.20.\", DeprecationWarning)\n"
     ]
    }
   ],
   "source": [
    "import pandas as pd\n",
    "import numpy as np\n",
    "import re\n",
    "import random\n",
    "import math \n",
    "from bs4 import BeautifulSoup \n",
    "import nltk\n",
    "from nltk.corpus import stopwords\n",
    "from scipy import sparse\n",
    "from sklearn.feature_extraction.text import CountVectorizer\n",
    "from sklearn.feature_extraction.text import TfidfTransformer\n",
    "from scipy.spatial import distance\n",
    "from sklearn.metrics.pairwise import *\n",
    "import time\n",
    "from sklearn.svm import SVC\n",
    "from sklearn.cross_validation import KFold\n",
    "from sklearn.svm import LinearSVC\n",
    "from sklearn.metrics import *\n",
    "import matplotlib.pyplot as plt\n",
    "from sklearn.metrics import accuracy_score\n",
    "from sklearn.linear_model import LogisticRegression\n",
    "from sklearn.preprocessing import StandardScaler\n",
    "from sklearn.model_selection import learning_curve\n",
    "\n",
    "def review_to_words(raw_review):\n",
    "    # Function to convert a raw review to a string of words\n",
    "    \n",
    "    # Remove HTML\n",
    "    review_text = BeautifulSoup(raw_review).get_text()\n",
    "\n",
    "    # Remove non-letters\n",
    "    letters_only = re.sub(\"[^a-zA-Z]\", \" \", review_text)\n",
    "\n",
    "    # Convert to lower case, split into individual words\n",
    "    words = letters_only.lower().split()\n",
    "\n",
    "    # Convert the stop words to a set\n",
    "    stops = set(stopwords.words(\"english\"))\n",
    "\n",
    "    # Remove stop words\n",
    "    meaningful_words = [w for w in words if not w in stops]\n",
    "\n",
    "    # Join the words back into one string and return the result.\n",
    "    return (\" \".join(meaningful_words))\n",
    "\n",
    "def count_words(cleaned_reviews):\n",
    "\n",
    "    # Bag of words tool\n",
    "    vectorizer = CountVectorizer(analyzer = \"word\",   \\\n",
    "                                 tokenizer = None,    \\\n",
    "                                 preprocessor = None, \\\n",
    "                                 stop_words = None,   \\\n",
    "                                 max_features = 5000)\n",
    "\n",
    "    cleaned_features = vectorizer.fit_transform(cleaned_reviews)\n",
    "    cleaned_features = cleaned_features.toarray()\n",
    "\n",
    "    return cleaned_features\n",
    "\n",
    "def get_binary(X_counts):\n",
    "\n",
    "    X_counts[X_counts>0] = 1\n",
    "\n",
    "    return X_counts\n",
    "\n",
    "def get_tfidf(X_counts):\n",
    "\n",
    "    # tfidf transformer\n",
    "    transformer = TfidfTransformer(smooth_idf=False)\n",
    "\n",
    "    X_tfidf = transformer.fit_transform(X_counts)\n",
    "    X_tfidf = X_tfidf.toarray()\n",
    "\n",
    "    return X_tfidf\n",
    "\n",
    "def get_binary_imbalance(train):\n",
    "\n",
    "    # get positive train data\n",
    "    train_pos = train[train[\"sentiment\"] == 1]\n",
    "    index_pos = train_pos.index\n",
    "\n",
    "    # set random index to delete\n",
    "    random.seed(0)\n",
    "    random_index = random.sample(range(index_pos.size),int(index_pos.size * 0.75))\n",
    "\n",
    "    # delete chosen random index data\n",
    "    for num in random_index:\n",
    "        random_index = index_pos[num]\n",
    "        train = train.drop(random_index)\n",
    "\n",
    "    # from new train data get binary counts table\n",
    "    total_reviews = train[\"review\"].index\n",
    "    cleaned_reviews = []\n",
    "\n",
    "    for i in total_reviews:\n",
    "        cleaned_reviews.append(review_to_words(train[\"review\"][i]))\n",
    "\n",
    "    X_counts = count_words(cleaned_reviews)\n",
    "    X_binary_imbalance = get_binary(X_counts)\n",
    "\n",
    "    return X_binary_imbalance,total_reviews\n",
    "\n",
    "def dist(X,i,j):\n",
    "\n",
    "    # get euclidean distance\n",
    "    dist = distance.euclidean(X[i],X[j])\n",
    "\n",
    "    return dist\n",
    "\n",
    "def topk(X,k):\n",
    "    # Fint top k closest pair of matrix X\n",
    "\n",
    "    # initialize distance list and record dictionary\n",
    "    distance_list = []\n",
    "    record_dict = {}\n",
    "\n",
    "    X_sparse = sparse.csr_matrix(X)\n",
    "    dis_sparse = pairwise_distances(X_sparse)\n",
    "\n",
    "    for i in range(0,X.shape[0]):\n",
    "\n",
    "        for j in range(i+1,X.shape[0]):\n",
    "            dist_temp = dis_sparse[i,j]\n",
    "                \n",
    "            # add record to dist\n",
    "            record_dict[dist_temp] = (i,j,dist_temp)\n",
    "\n",
    "            # get top k closest pairs\n",
    "            if len(distance_list) < k:\n",
    "                distance_list.append(dist_temp)\n",
    "            else:\n",
    "                distance_list.sort()\n",
    "                if dist_temp <= distance_list[-1]:\n",
    "                    distance_list[-1] = dist_temp\n",
    "\n",
    "    distance_list.sort()\n",
    "    closest_pair = []\n",
    "\n",
    "    # get closest pair\n",
    "    for i in distance_list:\n",
    "        closest_pair.append(record_dict[i])\n",
    "\n",
    "    return closest_pair\n",
    "\n",
    "def print_closest(matrix_name,pair,train):\n",
    "\n",
    "    # print the faature space similarity experiment\n",
    "    print(\"Feature space similarity experiment for \" + matrix_name)\n",
    "\n",
    "    print(\"The indices of the reviews are: \" + str(pair[0][0]) + \" and \" + str(pair[0][1]))\n",
    "\n",
    "    print(\"The distance is: \" + str(pair[0][2]))\n",
    "\n",
    "    raw_review = train[\"review\"][pair[0][0]]\n",
    "    review = review_to_words(raw_review)\n",
    "    print(\"The review of \" + str(pair[0][0]) + \" is: \" + review[:20])\n",
    "\n",
    "    raw_review = train[\"review\"][pair[0][1]]\n",
    "    review = review_to_words(raw_review)\n",
    "    print(\"The review of \" + str(pair[0][1]) + \" is: \" + review[:20])\n",
    "\n",
    "    print(\"The label of \" + str(pair[0][0]) + \" is: \" + str(train[\"sentiment\"][pair[0][0]]))\n",
    "\n",
    "    print(\"The label of \" + str(pair[0][1]) + \" is: \" + str(train[\"sentiment\"][pair[0][1]]) + \"\\n\")\n",
    "\n",
    "def print_closest_imbalance(pair,train,index):\n",
    "\n",
    "    # print the faature space similarity experiment\n",
    "    print(\"Feature space similarity experiment for X_binary_imbalance\")\n",
    "\n",
    "    print(\"The indices of the reviews are: \" + str(index[pair[0][0]]) + \" and \" + str(index[pair[0][1]]))\n",
    "\n",
    "    print(\"The distance is: \" + str(pair[0][2]))\n",
    "\n",
    "    raw_review = train[\"review\"][index[pair[0][0]]]\n",
    "    review = review_to_words(raw_review)\n",
    "    print(\"The review of \" + str(index[pair[0][0]]) + \" is: \" + review[:20])\n",
    "\n",
    "    raw_review = train[\"review\"][index[pair[0][1]]]\n",
    "    review = review_to_words(raw_review)\n",
    "    print(\"The review of \" + str(index[pair[0][1]]) + \" is: \" + review[:20])\n",
    "\n",
    "    print(\"The label of \" + str(index[pair[0][0]]) + \" is: \" + str(train[\"sentiment\"][index[pair[0][0]]]))\n",
    "\n",
    "    print(\"The label of \" + str(index[pair[0][1]]) + \" is: \" + str(train[\"sentiment\"][index[pair[0][1]]]) + \"\\n\")\n",
    "\n",
    "def get_kfold_acc(X,Y,c):\n",
    "\n",
    "    # kfold split validation\n",
    "    kf = KFold(Y.size,n_folds = 5, random_state = 0)\n",
    "    svm = LinearSVC(C = c)\n",
    "    #svm = SVC(kernel='linear', C=c)\n",
    "    auc = []\n",
    "\n",
    "    # get kfold auc value\n",
    "    for train_indice,test_indice in kf:\n",
    "        X_train,X_test = X[train_indice],X[test_indice]\n",
    "        Y_train,Y_test = Y[train_indice],Y[test_indice]\n",
    "        X_train_sparse = sparse.csr_matrix(X_train)\n",
    "        svm.fit(X_train_sparse, Y_train)\n",
    "        X_test_sparse = sparse.csr_matrix(X_test)\n",
    "        prediction = svm.predict(X_test_sparse)\n",
    "        Y_pred = np.array(prediction)\n",
    "        auc_temp = roc_auc_score(Y_test, Y_pred)\n",
    "        auc.append(auc_temp)\n",
    "\n",
    "    auc_avg = float(sum(auc))/len(auc)\n",
    "    return auc_avg\n",
    "\n",
    "def get_best_c(X,Y):\n",
    "\n",
    "    # set uniformal distributed coefficients\n",
    "    coef = [0.0001,0.001,0.01,0.1,1,10,100,1000,10000]\n",
    "    c_value = []\n",
    "    for i in range(30):\n",
    "        temp_mul = random.sample(range(0,9),1)\n",
    "        c_value.append(coef[temp_mul[0]]*(random.random()))\n",
    "\n",
    "    auc = []\n",
    "\n",
    "    # calculate k fold auc value\n",
    "    for c in c_value:\n",
    "        auc_temp = get_kfold_acc(X,Y,c)\n",
    "        auc.append(auc_temp)\n",
    "\n",
    "    auc_max = max(auc)\n",
    "    c_best = c_value[auc.index(auc_max)]\n",
    "\n",
    "    return c_best,auc_max\n",
    "\n",
    "def split_data(X,train):\n",
    "\n",
    "    num = X.shape[0]\n",
    "    split_num = int(num * 0.8)\n",
    "\n",
    "    random.seed(0)\n",
    "    train_index = random.sample(range(num),split_num)\n",
    "\n",
    "    test_index = []\n",
    "    for i in range(num):\n",
    "        if i not in train_index:\n",
    "            test_index.append(i)\n",
    "\n",
    "    train_data = []\n",
    "    for i in train_index:\n",
    "        train_data.append(X[i])\n",
    "    train_data = np.array(train_data)\n",
    "\n",
    "    train_label = []\n",
    "    for i in train_index:\n",
    "        train_label.append(train[\"sentiment\"][i])\n",
    "    train_label = np.array(train_label)\n",
    "\n",
    "    test_data = []\n",
    "    for i in test_index:\n",
    "        test_data.append(X[i])\n",
    "    test_data = np.array(test_data)\n",
    "\n",
    "    test_label = []\n",
    "    for i in test_index:\n",
    "        test_label.append(train[\"sentiment\"][i])\n",
    "    test_label = np.array(test_label)\n",
    "\n",
    "    return train_data,train_label,test_data,test_label\n",
    "\n",
    "def split_data_imbalance(X,train,index):\n",
    "\n",
    "    num = X.shape[0]\n",
    "    split_num = int(num * 0.8)\n",
    "\n",
    "    random.seed(0)\n",
    "    train_index_temp = random.sample(range(num),split_num)\n",
    "\n",
    "    test_index_temp = []\n",
    "    for i in range(num):\n",
    "        if i not in train_index_temp:\n",
    "            test_index_temp.append(i)\n",
    "\n",
    "    train_index = []\n",
    "    for i in train_index_temp:\n",
    "        train_index.append(index[i])\n",
    "\n",
    "    test_index = []\n",
    "    for i in test_index_temp:\n",
    "        test_index.append(index[i])\n",
    "\n",
    "    train_data = []\n",
    "    for i in train_index_temp:\n",
    "        train_data.append(X[i])\n",
    "    train_data = np.array(train_data)\n",
    "\n",
    "    train_label = []\n",
    "    for i in train_index:\n",
    "        train_label.append(train[\"sentiment\"][i])\n",
    "    train_label = np.array(train_label)\n",
    "\n",
    "    test_data = []\n",
    "    for i in test_index_temp:\n",
    "        test_data.append(X[i])\n",
    "    test_data = np.array(test_data)\n",
    "\n",
    "    test_label = []\n",
    "    for i in test_index:\n",
    "        test_label.append(train[\"sentiment\"][i])\n",
    "    test_label = np.array(test_label)\n",
    "\n",
    "    return train_data,train_label,test_data,test_label\n",
    "\n",
    "def get_retrained_score(X_train, Y_train, X_test, c):\n",
    "\n",
    "    # initial svm and kfold\n",
    "    svm = LinearSVC(C = c)\n",
    "    #svm = SVC(kernel='linear', C=c, probability=True)\n",
    "\n",
    "    X_train_sparse = sparse.csr_matrix(X_train)\n",
    "    X_test_sparse = sparse.csr_matrix(X_test)\n",
    "\n",
    "    svm.fit(X_train_sparse, Y_train)\n",
    "\n",
    "    score = svm.decision_function(X_test_sparse)\n",
    "\n",
    "    #pos_score = score[:,1]\n",
    "    \n",
    "    return score\n",
    "\n",
    "def plot(y_test,y_score,kaggle_score):\n",
    "    fpr = []\n",
    "    tpr = []\n",
    "    roc_auc = []\n",
    "\n",
    "    fpr, tpr, _ = roc_curve(y_test, y_score)\n",
    "    roc_auc = auc(fpr, tpr)\n",
    "\n",
    "    show_kaggle = \"Kaggle Score: \" + str(kaggle_score)\n",
    "\n",
    "    # plot the ROC curve\n",
    "    plt.figure()\n",
    "    lw = 2\n",
    "    plt.plot(fpr, tpr, color='limegreen',\n",
    "             lw=lw, label='ROC curve (area = %0.2f)' % roc_auc)\n",
    "    plt.plot([0, 1], [0, 1], color='navy', lw=lw, linestyle='--')\n",
    "    plt.xlim([0.0, 1.0])\n",
    "    plt.ylim([0.0, 1.03])\n",
    "    plt.xlabel('False Positive Rate')\n",
    "    plt.ylabel('True Positive Rate')\n",
    "    plt.title('Receiver operating characteristic curve')\n",
    "    plt.legend(loc=\"lower right\")\n",
    "    plt.text(0.55,0.12,show_kaggle)\n",
    "    plt.show()\n",
    "    \n",
    "def plot_learning_curve(estimator, title, X, y):\n",
    "    \n",
    "    plt.figure()\n",
    "    plt.title(title)\n",
    "    plt.xlabel(\"Training examples\")\n",
    "    plt.ylabel(\"Score\")\n",
    "    train_sizes, train_scores, test_scores = learning_curve(\n",
    "        estimator, X, y, train_sizes=[100,500,1000,2000,3000,4000,5000,7500,15000,20000], cv=5)\n",
    "\n",
    "    train_scores_mean = np.mean(train_scores, axis=1)\n",
    "\n",
    "    train_scores_std = np.std(train_scores, axis=1)\n",
    "    test_scores_mean = np.mean(test_scores, axis=1)\n",
    "    test_scores_std = np.std(test_scores, axis=1)\n",
    "    plt.grid()\n",
    "\n",
    "    plt.fill_between(train_sizes, train_scores_mean - train_scores_std,\n",
    "                     train_scores_mean + train_scores_std, alpha=0.1,\n",
    "                     color=\"r\")\n",
    "    plt.fill_between(train_sizes, test_scores_mean - test_scores_std,\n",
    "                     test_scores_mean + test_scores_std, alpha=0.1, color=\"g\")\n",
    "    plt.plot(train_sizes, train_scores_mean, 'o-', color=\"r\",\n",
    "             label=\"Training score\")\n",
    "    plt.plot(train_sizes, test_scores_mean, 'o-', color=\"g\",\n",
    "             label=\"Cross-validation score\")\n",
    "\n",
    "    plt.legend(loc=\"best\")\n",
    "    plt.show()\n",
    "\n"
   ]
  },
  {
   "cell_type": "markdown",
   "metadata": {},
   "source": [
    "## Main Funtion - Preprocess the features and get four feature matrixs"
   ]
  },
  {
   "cell_type": "code",
   "execution_count": 2,
   "metadata": {
    "collapsed": false
   },
   "outputs": [
    {
     "name": "stderr",
     "output_type": "stream",
     "text": [
      "/root/miniconda3/lib/python3.5/site-packages/bs4/__init__.py:181: UserWarning: No parser was explicitly specified, so I'm using the best available HTML parser for this system (\"html.parser\"). This usually isn't a problem, but if you run this code on another system, or in a different virtual environment, it may use a different parser and behave differently.\n",
      "\n",
      "The code that caused this warning is on line 184 of the file /root/miniconda3/lib/python3.5/runpy.py. To get rid of this warning, change code that looks like this:\n",
      "\n",
      " BeautifulSoup([your markup])\n",
      "\n",
      "to this:\n",
      "\n",
      " BeautifulSoup([your markup], \"html.parser\")\n",
      "\n",
      "  markup_type=markup_type))\n"
     ]
    },
    {
     "name": "stdout",
     "output_type": "stream",
     "text": [
      "Review 1000 of 25000\n",
      "\n",
      "Review 2000 of 25000\n",
      "\n",
      "Review 3000 of 25000\n",
      "\n",
      "Review 4000 of 25000\n",
      "\n",
      "Review 5000 of 25000\n",
      "\n",
      "Review 6000 of 25000\n",
      "\n",
      "Review 7000 of 25000\n",
      "\n",
      "Review 8000 of 25000\n",
      "\n",
      "Review 9000 of 25000\n",
      "\n",
      "Review 10000 of 25000\n",
      "\n",
      "Review 11000 of 25000\n",
      "\n",
      "Review 12000 of 25000\n",
      "\n",
      "Review 13000 of 25000\n",
      "\n",
      "Review 14000 of 25000\n",
      "\n",
      "Review 15000 of 25000\n",
      "\n",
      "Review 16000 of 25000\n",
      "\n",
      "Review 17000 of 25000\n",
      "\n",
      "Review 18000 of 25000\n",
      "\n",
      "Review 19000 of 25000\n",
      "\n",
      "Review 20000 of 25000\n",
      "\n",
      "Review 21000 of 25000\n",
      "\n",
      "Review 22000 of 25000\n",
      "\n",
      "Review 23000 of 25000\n",
      "\n",
      "Review 24000 of 25000\n",
      "\n",
      "Review 25000 of 25000\n",
      "\n"
     ]
    }
   ],
   "source": [
    "    train = pd.read_csv(\"labeledTrainData.tsv\", header=0, delimiter=\"\\t\", quoting=3)\n",
    "\n",
    "    num_reviews = train[\"review\"].index\n",
    "\n",
    "    clean_train_reviews = []\n",
    "\n",
    "    for i in num_reviews:\n",
    "        if (i+1)%1000 == 0 : \n",
    "            print (\"Review %d of %d\\n\" %(i+1,len(num_reviews)))\n",
    "        clean_train_reviews.append(review_to_words(train[\"review\"][i]))\n",
    "\n",
    "    X_counts = count_words(clean_train_reviews)\n",
    "\n",
    "    X_binary = get_binary(X_counts)\n",
    "\n",
    "    X_tfidf = get_tfidf(X_counts)\n",
    "\n",
    "    X_binary_imbalance, train_index = get_binary_imbalance(train)"
   ]
  },
  {
   "cell_type": "markdown",
   "metadata": {
    "collapsed": true
   },
   "source": [
    "## Question 1:  Feature Space Similarity Experiment"
   ]
  },
  {
   "cell_type": "markdown",
   "metadata": {},
   "source": [
    "#Step 1: The closest pair for X_count matrix"
   ]
  },
  {
   "cell_type": "code",
   "execution_count": null,
   "metadata": {
    "collapsed": true
   },
   "outputs": [],
   "source": [
    "    pair = topk(X_counts,1)\n",
    "    print_closest(\"X_counts\",pair,train)"
   ]
  },
  {
   "cell_type": "raw",
   "metadata": {},
   "source": [
    "Feature space similarity experiment for X_counts\n",
    "The indices of the reviews are: 22599 and 23581\n",
    "The distance is: 0.0\n",
    "The review of 22599 is: loved movie knew wou\n",
    "The review of 23581 is: loved movie knew wou\n",
    "The label of 22599 is: 1\n",
    "The label of 23581 is: 1"
   ]
  },
  {
   "cell_type": "markdown",
   "metadata": {},
   "source": [
    "#Step 2: The closest pair for X_binary matrix"
   ]
  },
  {
   "cell_type": "code",
   "execution_count": null,
   "metadata": {
    "collapsed": true
   },
   "outputs": [],
   "source": [
    "    pair = topk(X_binary,1)\n",
    "    print_closest(\"X_binary\",pair,train)"
   ]
  },
  {
   "cell_type": "raw",
   "metadata": {},
   "source": [
    "Feature space similarity experiment for X_binary\n",
    "The indices of the reviews are: 22599 and 23581\n",
    "The distance is: 0.0\n",
    "The review of 22599 is: loved movie knew wou\n",
    "The review of 23581 is: loved movie knew wou\n",
    "The label of 22599 is: 1\n",
    "The label of 23581 is: 1"
   ]
  },
  {
   "cell_type": "markdown",
   "metadata": {},
   "source": [
    "#Step 3: The closest pair for X_tfidf"
   ]
  },
  {
   "cell_type": "code",
   "execution_count": null,
   "metadata": {
    "collapsed": true
   },
   "outputs": [],
   "source": [
    "    pair = topk(X_tfidf,1)\n",
    "    print_closest(\"X_tfidf\",pair,train)"
   ]
  },
  {
   "cell_type": "raw",
   "metadata": {},
   "source": [
    "Feature space similarity experiment for X_tfidf\n",
    "The indices of the reviews are: 22599 and 23581\n",
    "The distance is: 0.0\n",
    "The review of 22599 is: loved movie knew wou\n",
    "The review of 23581 is: loved movie knew wou\n",
    "The label of 22599 is: 1\n",
    "The label of 23581 is: 1"
   ]
  },
  {
   "cell_type": "markdown",
   "metadata": {},
   "source": [
    "#Step 4: The closest pair for X_imbalance_binary"
   ]
  },
  {
   "cell_type": "code",
   "execution_count": null,
   "metadata": {
    "collapsed": true
   },
   "outputs": [],
   "source": [
    "    pair = topk(X_binary_imbalance,1)\n",
    "    print_closest_imbalance(pair,train,train_index)"
   ]
  },
  {
   "cell_type": "raw",
   "metadata": {},
   "source": [
    "Feature space similarity experiment for X_binary_imbalance\n",
    "The indices of the reviews are: 21186 and 21877\n",
    "The distance is: 0.0\n",
    "The review of 21186 is: back youth old man w\n",
    "The review of 21877 is: back youth old man w\n",
    "The label of 21186 is: 0\n",
    "The label of 21877 is: 0"
   ]
  },
  {
   "cell_type": "markdown",
   "metadata": {},
   "source": [
    "## Question 2: Estimate and pick the best C value for 4 design matrix "
   ]
  },
  {
   "cell_type": "markdown",
   "metadata": {},
   "source": [
    "#Step 1: Pick the best C value for X_counts"
   ]
  },
  {
   "cell_type": "code",
   "execution_count": null,
   "metadata": {
    "collapsed": true
   },
   "outputs": [],
   "source": [
    "    X_train,Y_train,X_test,Y_test = split_data(X_counts,train)\n",
    "    c_best,auc_max = get_best_c(X_train,Y_train)\n",
    "    print(\"Best c value and its auc score for X_counts\")\n",
    "    print(c_best)\n",
    "    print(auc_max)"
   ]
  },
  {
   "cell_type": "raw",
   "metadata": {},
   "source": [
    "Best c value and its auc score for X_counts\n",
    "0.002916738113440647\n",
    "0.8741333479454856"
   ]
  },
  {
   "cell_type": "markdown",
   "metadata": {},
   "source": [
    "#Step 2: Pick the best C value for X_binary"
   ]
  },
  {
   "cell_type": "code",
   "execution_count": null,
   "metadata": {
    "collapsed": true
   },
   "outputs": [],
   "source": [
    "    X_train,Y_train,X_test,Y_test = split_data(X_binary,train)\n",
    "    c_best,auc_max = get_best_c(X_train,Y_train)\n",
    "    print(\"Best c value and its auc score for X_binary\")\n",
    "    print(c_best)\n",
    "    print(auc_max)"
   ]
  },
  {
   "cell_type": "raw",
   "metadata": {},
   "source": [
    "Best c value and its auc score for X_binary\n",
    "0.002916738113440647\n",
    "0.8741333479454856"
   ]
  },
  {
   "cell_type": "markdown",
   "metadata": {},
   "source": [
    "#Step 3: Pick the best C value for X_tfidf"
   ]
  },
  {
   "cell_type": "code",
   "execution_count": null,
   "metadata": {
    "collapsed": true
   },
   "outputs": [],
   "source": [
    "    X_train,Y_train,X_test,Y_test = split_data(X_tfidf,train)\n",
    "    c_best,auc_max = get_best_c(X_train,Y_train)\n",
    "    print(\"Best c value and its auc score for X_tfidf\")\n",
    "    print(c_best)\n",
    "    print(auc_max)"
   ]
  },
  {
   "cell_type": "raw",
   "metadata": {},
   "source": [
    "Best c value and its auc score for X_tfidf\n",
    "0.06326522680644527\n",
    "0.8794127974350759"
   ]
  },
  {
   "cell_type": "markdown",
   "metadata": {},
   "source": [
    "#Step 4: Pick the best C value for X_binary_imbalance"
   ]
  },
  {
   "cell_type": "code",
   "execution_count": null,
   "metadata": {
    "collapsed": true
   },
   "outputs": [],
   "source": [
    "    X_train,Y_train,X_test,Y_test = split_data_imbalance(X_binary_imbalance,train,train_index)\n",
    "    c_best,auc_max = get_best_c(X_train,Y_train)\n",
    "    print(\"Best c value and its auc score for X_binary_imbalance\")\n",
    "    print(c_best)\n",
    "    print(auc_max)"
   ]
  },
  {
   "cell_type": "raw",
   "metadata": {},
   "source": [
    "Best c value and its auc score for X_binary_imbalance\n",
    "0.04107072728724276\n",
    "0.8091718608844312"
   ]
  },
  {
   "cell_type": "markdown",
   "metadata": {},
   "source": [
    "## Question 3: Retrain classifier and get AUC-ROC plot for 4 design matrix"
   ]
  },
  {
   "cell_type": "markdown",
   "metadata": {},
   "source": [
    "#Step 1: Get AUC-ROC plot for X_counts"
   ]
  },
  {
   "cell_type": "code",
   "execution_count": 7,
   "metadata": {
    "collapsed": false
   },
   "outputs": [
    {
     "data": {
      "image/png": "[encoded data removed]",
      "text/plain": [
       "<matplotlib.figure.Figure at 0x7fae0fff2588>"
      ]
     },
     "metadata": {},
     "output_type": "display_data"
    }
   ],
   "source": [
    "    c = [0.0075667229965450155, 0.0075667229965450155, 0.08002006207478382, 0.07110679469752405]\n",
    "    \n",
    "    ## add my kaggle test score to the plot \n",
    "    kaggle = [0.55228, 0.56776, 0.59080, 0.50020]\n",
    "    X_train,Y_train,X_test,Y_test = split_data(X_counts,train)\n",
    "    score = get_retrained_score(X_train,Y_train, X_test,c[0])\n",
    "    plot(Y_test,score,kaggle[0])"
   ]
  },
  {
   "cell_type": "markdown",
   "metadata": {},
   "source": [
    "#Step 2: Get AUC-ROC plot for X_binary"
   ]
  },
  {
   "cell_type": "code",
   "execution_count": 8,
   "metadata": {
    "collapsed": false
   },
   "outputs": [
    {
     "data": {
      "image/png": "[encoded data removed]",
      "text/plain": [
       "<matplotlib.figure.Figure at 0x7fae0f6efd30>"
      ]
     },
     "metadata": {},
     "output_type": "display_data"
    }
   ],
   "source": [
    "    X_train,Y_train,X_test,Y_test = split_data(X_binary,train)\n",
    "    score = get_retrained_score(X_train,Y_train, X_test,c[1])\n",
    "    plot(Y_test,score,kaggle[1])"
   ]
  },
  {
   "cell_type": "markdown",
   "metadata": {},
   "source": [
    "#Step 3: Get AUC-ROC plot for X_tfidf"
   ]
  },
  {
   "cell_type": "code",
   "execution_count": 9,
   "metadata": {
    "collapsed": false
   },
   "outputs": [
    {
     "data": {
      "image/png": "[encoded data removed]",
      "text/plain": [
       "<matplotlib.figure.Figure at 0x7fae0f9189b0>"
      ]
     },
     "metadata": {},
     "output_type": "display_data"
    }
   ],
   "source": [
    "    X_train,Y_train,X_test,Y_test = split_data(X_tfidf,train)\n",
    "    score = get_retrained_score(X_train,Y_train, X_test,c[2])\n",
    "    plot(Y_test,score,kaggle[2])"
   ]
  },
  {
   "cell_type": "markdown",
   "metadata": {},
   "source": [
    "#Step 4: Get AUC-ROC plot for X_binary_imbalance"
   ]
  },
  {
   "cell_type": "code",
   "execution_count": 10,
   "metadata": {
    "collapsed": false
   },
   "outputs": [
    {
     "data": {
      "image/png": "[encoded data removed]",
      "text/plain": [
       "<matplotlib.figure.Figure at 0x7fae0f74e9b0>"
      ]
     },
     "metadata": {},
     "output_type": "display_data"
    }
   ],
   "source": [
    "    X_train,Y_train,X_test,Y_test = split_data_imbalance(X_binary_imbalance,train,train_index)\n",
    "    score = get_retrained_score(X_train,Y_train, X_test,c[3])\n",
    "    plot(Y_test,score,kaggle[3])"
   ]
  },
  {
   "cell_type": "markdown",
   "metadata": {},
   "source": [
    "## Comments on Question 3"
   ]
  },
  {
   "cell_type": "markdown",
   "metadata": {},
   "source": [
    "I add the kaggle test score for each matrix to the respective AUC-ROC graph. From the results above, we could see that X_tiidf matrix gives the best kaggle test score (0.5908). The X_binary_imbalance perform the worst, with kaggle test score (0.5002) and AUC score (0.92), it might be caused by the deletion of records (loss of information). X_counts and X_binary matrix perform very similarly, X_binary matrix has a higher kaggle test score, which might perform better on avoiding overfitting."
   ]
  },
  {
   "cell_type": "markdown",
   "metadata": {},
   "source": [
    "## Question 4: Drawing learning curve for X_counts"
   ]
  },
  {
   "cell_type": "code",
   "execution_count": 24,
   "metadata": {
    "collapsed": false
   },
   "outputs": [
    {
     "data": {
      "image/png": "[encoded data removed]",
      "text/plain": [
       "<matplotlib.figure.Figure at 0x7fdeacdceac8>"
      ]
     },
     "metadata": {},
     "output_type": "display_data"
    }
   ],
   "source": [
    "    estimator = LogisticRegression()\n",
    "    title = \"Learning Curves (Logistic Classifier)\"\n",
    "    X_counts = sparse.csr_matrix(X_counts)\n",
    "    X = X_counts\n",
    "    y = train[\"sentiment\"]\n",
    "    plot_learning_curve(estimator, title, X, y)"
   ]
  },
  {
   "cell_type": "markdown",
   "metadata": {},
   "source": [
    "## Interprete the learning curve"
   ]
  },
  {
   "cell_type": "markdown",
   "metadata": {},
   "source": [
    "From the learning curve above, we could see that, when we increase the training examples, the cross-validation becomes higher. For small training examples, although we get good training score, the cross-validation performance is poor, it might be caused by overfitting in small dataset. "
   ]
  }
 ],
 "metadata": {
  "kernelspec": {
   "display_name": "Python 3",
   "language": "python",
   "name": "python3"
  },
  "language_info": {
   "codemirror_mode": {
    "name": "ipython",
    "version": 3
   },
   "file_extension": ".py",
   "mimetype": "text/x-python",
   "name": "python",
   "nbconvert_exporter": "python",
   "pygments_lexer": "ipython3",
   "version": "3.5.2"
  }
 },
 "nbformat": 4,
 "nbformat_minor": 2
}
