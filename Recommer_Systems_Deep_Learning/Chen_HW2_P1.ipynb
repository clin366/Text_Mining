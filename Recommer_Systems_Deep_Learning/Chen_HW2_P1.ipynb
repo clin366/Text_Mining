{
 "cells": [
  {
   "cell_type": "markdown",
   "metadata": {},
   "source": [
    "# Problem 1"
   ]
  },
  {
   "cell_type": "code",
   "execution_count": 1,
   "metadata": {
    "collapsed": true
   },
   "outputs": [],
   "source": [
    "import numpy as np\n",
    "import pandas as pd\n",
    "import matplotlib.pyplot as plt\n",
    "import math"
   ]
  },
  {
   "cell_type": "markdown",
   "metadata": {},
   "source": [
    "### Load the u.data"
   ]
  },
  {
   "cell_type": "code",
   "execution_count": 2,
   "metadata": {
    "collapsed": true
   },
   "outputs": [],
   "source": [
    "# Set the column name\n",
    "col_name = [\"user_id\",\"item_id\",\"rating\",\"timestamp\"]\n",
    "\n",
    "# Load the data\n",
    "path = \"/Users/vongola/Desktop/textminingHW2/ml-100k\"\n",
    "\n",
    "data_all = pd.read_csv(path + \"/u.data\",sep=\"\\t\", names = col_name)"
   ]
  },
  {
   "cell_type": "markdown",
   "metadata": {},
   "source": [
    "# Histogram - Number of ratings for a movie"
   ]
  },
  {
   "cell_type": "code",
   "execution_count": 3,
   "metadata": {
    "collapsed": false
   },
   "outputs": [
    {
     "data": {
      "image/png": "[encoded data removed]",
      "text/plain": [
       "<matplotlib.figure.Figure at 0x1149d8550>"
      ]
     },
     "metadata": {},
     "output_type": "display_data"
    }
   ],
   "source": [
    "# Set the data\n",
    "num_item = data_all[\"item_id\"].max()\n",
    "num_ratings_item = []\n",
    "\n",
    "for i in range(1,num_item+1):\n",
    "    temp_num = (data_all[data_all[\"item_id\"] == i].size)/4\n",
    "    num_ratings_item.append(temp_num)\n",
    "\n",
    "num_bins = 20\n",
    "\n",
    "# Set the histogram\n",
    "n, bins, patches = plt.hist(num_ratings_item, num_bins, facecolor = \"blue\", alpha = 0.5)\n",
    "\n",
    "plt.xlabel('Number of ratings of item')\n",
    "plt.ylabel('Frequency')\n",
    "plt.title(\"Histogram - Number of Ratings for A Movie.\")\n",
    "\n",
    "plt.show()"
   ]
  },
  {
   "cell_type": "markdown",
   "metadata": {},
   "source": [
    "# Histogram - Number of ratings for a user"
   ]
  },
  {
   "cell_type": "code",
   "execution_count": 4,
   "metadata": {
    "collapsed": false
   },
   "outputs": [
    {
     "data": {
      "image/png": "[encoded data removed]",
      "text/plain": [
       "<matplotlib.figure.Figure at 0x114a549d0>"
      ]
     },
     "metadata": {},
     "output_type": "display_data"
    }
   ],
   "source": [
    "# Set the data\n",
    "num_user = data_all[\"user_id\"].max()\n",
    "num_ratings_user = []\n",
    "\n",
    "for i in range(1,num_item+1):\n",
    "    temp_num = (data_all[data_all[\"user_id\"] == i].size)/4\n",
    "    num_ratings_user.append(temp_num)\n",
    "\n",
    "num_bins = 20\n",
    "\n",
    "# Set the histogram\n",
    "n, bins, patches = plt.hist(num_ratings_user, num_bins, facecolor = \"blue\", alpha = 0.5)\n",
    "\n",
    "plt.xlabel('Number of ratings of user')\n",
    "plt.ylabel('Frequency')\n",
    "plt.title(\"Histogram - Number of Ratings for A User.\")\n",
    "\n",
    "plt.show()"
   ]
  },
  {
   "cell_type": "markdown",
   "metadata": {},
   "source": [
    "# Recommender System - Baseline Predictor"
   ]
  },
  {
   "cell_type": "code",
   "execution_count": 5,
   "metadata": {
    "collapsed": true
   },
   "outputs": [],
   "source": [
    "# Load data\n",
    "data_ua_train = pd.read_csv(path + \"/ua.base\",sep=\"\\t\", names = col_name)\n",
    "data_ua_test = pd.read_csv(path + \"/ua.test\",sep=\"\\t\", names = col_name)\n",
    "\n",
    "# Get the parameters\n",
    "num_user_ua_train = data_ua_train[\"user_id\"].max()\n",
    "num_item_ua_train = data_ua_train[\"item_id\"].max()\n",
    "num_user_ua_test = data_ua_test[\"user_id\"].max()\n",
    "num_item_ua_test = data_ua_test[\"item_id\"].max()\n",
    "\n",
    "# Create the zero matrix\n",
    "matrix_ua_train = np.zeros(shape = (num_user_ua_train,num_item_ua_train))\n",
    "matrix_ua_test = np.zeros(shape = (num_user_ua_test,num_item_ua_test))"
   ]
  },
  {
   "cell_type": "markdown",
   "metadata": {},
   "source": [
    "## Create the matrix"
   ]
  },
  {
   "cell_type": "markdown",
   "metadata": {},
   "source": [
    "### Define the function to fill the matrix"
   ]
  },
  {
   "cell_type": "code",
   "execution_count": 6,
   "metadata": {
    "collapsed": true
   },
   "outputs": [],
   "source": [
    "def fill_matrix(matrix, num_user, data):\n",
    "    index = 0\n",
    "    size = 0\n",
    "    \n",
    "    for i in range(1,num_user+1):\n",
    "        temp = data[data[\"user_id\"] == i]\n",
    "        while index < (size + temp.size/4):\n",
    "            item = temp.loc[index][\"item_id\"]\n",
    "            rating = temp.loc[index][\"rating\"]\n",
    "            matrix[i-1][item-1] = rating\n",
    "            index += 1\n",
    "        size += temp.size/4        "
   ]
  },
  {
   "cell_type": "markdown",
   "metadata": {},
   "source": [
    "### Define the function to calculate bi"
   ]
  },
  {
   "cell_type": "code",
   "execution_count": 7,
   "metadata": {
    "collapsed": true
   },
   "outputs": [],
   "source": [
    "def cal_bi(miu):\n",
    "    \n",
    "    exist_value = matrix_ua_train > 0\n",
    "    matrix_temp = matrix_ua_train.copy()\n",
    "    \n",
    "    matrix_temp[exist_value] = matrix_temp[exist_value] - miu\n",
    "    \n",
    "    num = exist_value.sum(axis=0) + 25\n",
    "    \n",
    "    bi = matrix_temp.sum(axis=0)/num\n",
    "    \n",
    "    return bi"
   ]
  },
  {
   "cell_type": "markdown",
   "metadata": {},
   "source": [
    "### Define the function to calculate bu"
   ]
  },
  {
   "cell_type": "code",
   "execution_count": 8,
   "metadata": {
    "collapsed": true
   },
   "outputs": [],
   "source": [
    "def cal_bu(miu):\n",
    "    \n",
    "    exist_value = matrix_ua_train > 0\n",
    "    matrix_temp = matrix_ua_train.copy()\n",
    "    matrix_temp[exist_value] = matrix_temp[exist_value] - miu\n",
    "    matrix_temp = matrix_temp - bi\n",
    "    matrix_temp[~exist_value] = 0\n",
    "    \n",
    "    num = exist_value.sum(axis = 1)\n",
    "    num = num + 10\n",
    "    \n",
    "    bu = matrix_temp.sum(axis = 1)/num\n",
    "    \n",
    "    return bu"
   ]
  },
  {
   "cell_type": "code",
   "execution_count": 9,
   "metadata": {
    "collapsed": false
   },
   "outputs": [],
   "source": [
    "# Fill in the matrix\n",
    "fill_matrix(matrix_ua_train,num_user_ua_train,data_ua_train)  \n",
    "fill_matrix(matrix_ua_test,num_user_ua_test,data_ua_test)"
   ]
  },
  {
   "cell_type": "code",
   "execution_count": 10,
   "metadata": {
    "collapsed": true
   },
   "outputs": [],
   "source": [
    "# Calculate the bi and bu\n",
    "real_value = matrix_ua_train > 0\n",
    "miu = matrix_ua_train.sum()/(real_value.sum())\n",
    "bi = cal_bi(miu)\n",
    "bu = cal_bu(miu)"
   ]
  },
  {
   "cell_type": "markdown",
   "metadata": {},
   "source": [
    "### Define the function to get the required list"
   ]
  },
  {
   "cell_type": "code",
   "execution_count": 11,
   "metadata": {
    "collapsed": true
   },
   "outputs": [],
   "source": [
    "def get_list(data):\n",
    "    list_user = np.array(data[\"user_id\"])\n",
    "    list_item = np.array(data[\"item_id\"])\n",
    "    list_rating = np.array(data[\"rating\"])\n",
    "    \n",
    "    return list_user,list_item,list_rating"
   ]
  },
  {
   "cell_type": "markdown",
   "metadata": {},
   "source": [
    "### Define the function to calculate the RMSE for Baseline Predictor"
   ]
  },
  {
   "cell_type": "code",
   "execution_count": 12,
   "metadata": {
    "collapsed": false
   },
   "outputs": [],
   "source": [
    "def cal_RMSE(list_user, list_item, list_rating):\n",
    "        \n",
    "    num_rating = list_user.size\n",
    "    RMSE_sum = 0\n",
    "    \n",
    "    for i in range(num_rating):\n",
    "        temp_item = list_item[i]\n",
    "        temp_user = list_user[i]\n",
    "        temp_bi = bi[temp_item-1]\n",
    "        temp_bu = bu[temp_user-1]\n",
    "\n",
    "        temp_error = math.pow((miu + temp_bi + temp_bu - list_rating[i]),2)\n",
    "        RMSE_sum += temp_error\n",
    "        \n",
    "    RMSE_value = math.pow(RMSE_sum/num_rating,0.5) \n",
    "    \n",
    "    return RMSE_value"
   ]
  },
  {
   "cell_type": "markdown",
   "metadata": {},
   "source": [
    "### Calculate the RMSE for test set"
   ]
  },
  {
   "cell_type": "code",
   "execution_count": 13,
   "metadata": {
    "collapsed": false
   },
   "outputs": [
    {
     "name": "stdout",
     "output_type": "stream",
     "text": [
      "0.966481783888\n"
     ]
    }
   ],
   "source": [
    "test_list_user, test_list_item, test_list_rating = get_list(data_ua_test)\n",
    "RMSE_test = cal_RMSE(test_list_user, test_list_item, test_list_rating)\n",
    "\n",
    "print RMSE_test"
   ]
  },
  {
   "cell_type": "markdown",
   "metadata": {},
   "source": [
    "# Result - 1.2.a"
   ]
  },
  {
   "cell_type": "markdown",
   "metadata": {},
   "source": [
    "RMSE - 0.966481783888"
   ]
  },
  {
   "cell_type": "markdown",
   "metadata": {},
   "source": [
    "### Calculate the RMSE for different test rating"
   ]
  },
  {
   "cell_type": "code",
   "execution_count": 14,
   "metadata": {
    "collapsed": false
   },
   "outputs": [
    {
     "name": "stdout",
     "output_type": "stream",
     "text": [
      "-----------------------------Result for RMSE_rating1------------------------------------\n",
      "2.1125443819\n",
      "-----------------------------Result for RMSE_rating2------------------------------------\n",
      "1.30648829362\n",
      "-----------------------------Result for RMSE_rating3------------------------------------\n",
      "0.605826897197\n",
      "-----------------------------Result for RMSE_rating4------------------------------------\n",
      "0.531504541752\n",
      "-----------------------------Result for RMSE_rating5------------------------------------\n",
      "1.15351408\n"
     ]
    }
   ],
   "source": [
    "# For rating 1\n",
    "rating1 = data_ua_test[data_ua_test[\"rating\"] == 1]\n",
    "rating1_list_user, rating1_list_item, rating1_list_rating = get_list(rating1)\n",
    "RMSE_rating1 = cal_RMSE(rating1_list_user, rating1_list_item, rating1_list_rating)\n",
    "\n",
    "print \"-----------------------------Result for RMSE_rating1------------------------------------\"\n",
    "print RMSE_rating1\n",
    "\n",
    "# For rating 2\n",
    "rating2 = data_ua_test[data_ua_test[\"rating\"] == 2]\n",
    "rating2_list_user, rating2_list_item, rating2_list_rating = get_list(rating2)\n",
    "RMSE_rating2 = cal_RMSE(rating2_list_user, rating2_list_item, rating2_list_rating)\n",
    "\n",
    "print \"-----------------------------Result for RMSE_rating2------------------------------------\"\n",
    "print RMSE_rating2\n",
    "\n",
    "# For rating 3\n",
    "rating3 = data_ua_test[data_ua_test[\"rating\"] == 3]\n",
    "rating3_list_user, rating3_list_item, rating3_list_rating = get_list(rating3)\n",
    "RMSE_rating3 = cal_RMSE(rating3_list_user, rating3_list_item, rating3_list_rating)\n",
    "\n",
    "print \"-----------------------------Result for RMSE_rating3------------------------------------\"\n",
    "print RMSE_rating3\n",
    "\n",
    "# For rating 4\n",
    "rating4 = data_ua_test[data_ua_test[\"rating\"] == 4]\n",
    "rating4_list_user, rating4_list_item, rating4_list_rating = get_list(rating4)\n",
    "RMSE_rating4 = cal_RMSE(rating4_list_user, rating4_list_item, rating4_list_rating)\n",
    "\n",
    "print \"-----------------------------Result for RMSE_rating4------------------------------------\"\n",
    "print RMSE_rating4\n",
    "\n",
    "# For rating 5\n",
    "rating5 = data_ua_test[data_ua_test[\"rating\"] == 5]\n",
    "rating5_list_user, rating5_list_item, rating5_list_rating = get_list(rating5)\n",
    "RMSE_rating5 = cal_RMSE(rating5_list_user, rating5_list_item, rating5_list_rating)\n",
    "\n",
    "print \"-----------------------------Result for RMSE_rating5------------------------------------\"\n",
    "print RMSE_rating5"
   ]
  },
  {
   "cell_type": "markdown",
   "metadata": {},
   "source": [
    "# Result - 1.2.b"
   ]
  },
  {
   "cell_type": "markdown",
   "metadata": {},
   "source": [
    "### Bar Chart - RMSE for all test ratings"
   ]
  },
  {
   "cell_type": "code",
   "execution_count": 15,
   "metadata": {
    "collapsed": false
   },
   "outputs": [
    {
     "data": {
      "image/png": "[encoded data removed]",
      "text/plain": [
       "<matplotlib.figure.Figure at 0x114a544d0>"
      ]
     },
     "metadata": {},
     "output_type": "display_data"
    }
   ],
   "source": [
    "# Set the data\n",
    "RMSE_test_ratings = [RMSE_rating1, RMSE_rating2, RMSE_rating3, RMSE_rating4, RMSE_rating5]\n",
    "n_bar = 5\n",
    "index = np.arange(n_bar)  \n",
    "bar_width = 0.8\n",
    "rects = plt.bar(index, RMSE_test_ratings, bar_width, alpha=0.5, color='b')  \n",
    "\n",
    "plt.xlabel('Ratings') \n",
    "plt.ylabel('RMSE')\n",
    "plt.title('RMSE for all the test ratings') \n",
    "plt.xticks(index, ('1', '2', '3', '4', '5')) \n",
    "plt.ylim(0,3) \n",
    "\n",
    "plt.tight_layout()\n",
    "plt.show()"
   ]
  },
  {
   "cell_type": "markdown",
   "metadata": {},
   "source": [
    "### Find the range of average ratings for each user"
   ]
  },
  {
   "cell_type": "code",
   "execution_count": 16,
   "metadata": {
    "collapsed": false
   },
   "outputs": [
    {
     "name": "stdout",
     "output_type": "stream",
     "text": [
      "4.92857142857\n",
      "1.48941176471\n"
     ]
    }
   ],
   "source": [
    "num_user_ua_train = data_ua_train[\"user_id\"].max()\n",
    "avg_user_rating = []\n",
    "\n",
    "for i in range(1,num_user_ua_train + 1):\n",
    "    temp = data_ua_train[data_ua_train[\"user_id\"] == i]\n",
    "    avg_rating = temp[\"rating\"].sum()/float(temp.size/4)\n",
    "    avg_user_rating.append(avg_rating)\n",
    "\n",
    "print max(avg_user_rating)\n",
    "print min(avg_user_rating)"
   ]
  },
  {
   "cell_type": "markdown",
   "metadata": {},
   "source": [
    "### Get the list of user based on average ratings"
   ]
  },
  {
   "cell_type": "code",
   "execution_count": 17,
   "metadata": {
    "collapsed": false
   },
   "outputs": [],
   "source": [
    "max_user_avg = max(avg_user_rating)\n",
    "min_user_avg = min(avg_user_rating)\n",
    "step = (max_user_avg - min_user_avg)/5\n",
    "\n",
    "user_list_step1 = []\n",
    "user_list_step2 = []\n",
    "user_list_step3 = []\n",
    "user_list_step4 = []\n",
    "user_list_step5 = []\n",
    "\n",
    "for i in range(len(avg_user_rating)):\n",
    "    if avg_user_rating[i] <= (min_user_avg + step):\n",
    "        user_list_step1.append(i+1)\n",
    "    elif (min_user_avg + step) < avg_user_rating[i] <= (min_user_avg + step * 2):\n",
    "        user_list_step2.append(i+1)\n",
    "    elif (min_user_avg + step * 2) < avg_user_rating[i] <= (min_user_avg + step * 3):\n",
    "        user_list_step3.append(i+1)\n",
    "    elif (min_user_avg + step * 3) < avg_user_rating[i] <= (min_user_avg + step * 4):\n",
    "        user_list_step4.append(i+1)\n",
    "    else:\n",
    "        user_list_step5.append(i+1)    "
   ]
  },
  {
   "cell_type": "markdown",
   "metadata": {},
   "source": [
    "### Calculate the RMSE for different users"
   ]
  },
  {
   "cell_type": "code",
   "execution_count": 18,
   "metadata": {
    "collapsed": false
   },
   "outputs": [
    {
     "name": "stdout",
     "output_type": "stream",
     "text": [
      "-----------------------------Result for RMSE_rating1------------------------------------\n",
      "1.10886596579\n",
      "-----------------------------Result for RMSE_rating2------------------------------------\n",
      "1.15083430531\n",
      "-----------------------------Result for RMSE_rating3------------------------------------\n",
      "1.00076338174\n",
      "-----------------------------Result for RMSE_rating4------------------------------------\n",
      "0.926408980006\n",
      "-----------------------------Result for RMSE_rating5------------------------------------\n",
      "0.887866917339\n"
     ]
    }
   ],
   "source": [
    "# For user type 1\n",
    "rating1 = data_ua_test[data_ua_test[\"user_id\"].isin(user_list_step1)]\n",
    "rating1_list_user, rating1_list_item, rating1_list_rating = get_list(rating1)\n",
    "RMSE_rating1 = cal_RMSE(rating1_list_user, rating1_list_item, rating1_list_rating)\n",
    "\n",
    "print \"-----------------------------Result for RMSE_rating1------------------------------------\"\n",
    "print RMSE_rating1\n",
    "\n",
    "# For rating 2\n",
    "rating2 = data_ua_test[data_ua_test[\"user_id\"].isin(user_list_step2)]\n",
    "rating2_list_user, rating2_list_item, rating2_list_rating = get_list(rating2)\n",
    "RMSE_rating2 = cal_RMSE(rating2_list_user, rating2_list_item, rating2_list_rating)\n",
    "\n",
    "print \"-----------------------------Result for RMSE_rating2------------------------------------\"\n",
    "print RMSE_rating2\n",
    "\n",
    "# For rating 3\n",
    "rating3 = data_ua_test[data_ua_test[\"user_id\"].isin(user_list_step3)]\n",
    "rating3_list_user, rating3_list_item, rating3_list_rating = get_list(rating3)\n",
    "RMSE_rating3 = cal_RMSE(rating3_list_user, rating3_list_item, rating3_list_rating)\n",
    "\n",
    "print \"-----------------------------Result for RMSE_rating3------------------------------------\"\n",
    "print RMSE_rating3\n",
    "\n",
    "# For rating 4\n",
    "rating4 = data_ua_test[data_ua_test[\"user_id\"].isin(user_list_step4)]\n",
    "rating4_list_user, rating4_list_item, rating4_list_rating = get_list(rating4)\n",
    "RMSE_rating4 = cal_RMSE(rating4_list_user, rating4_list_item, rating4_list_rating)\n",
    "\n",
    "print \"-----------------------------Result for RMSE_rating4------------------------------------\"\n",
    "print RMSE_rating4\n",
    "\n",
    "# For rating 5\n",
    "rating5 = data_ua_test[data_ua_test[\"user_id\"].isin(user_list_step5)]\n",
    "rating5_list_user, rating5_list_item, rating5_list_rating = get_list(rating5)\n",
    "RMSE_rating5 = cal_RMSE(rating5_list_user, rating5_list_item, rating5_list_rating)\n",
    "\n",
    "print \"-----------------------------Result for RMSE_rating5------------------------------------\"\n",
    "print RMSE_rating5"
   ]
  },
  {
   "cell_type": "markdown",
   "metadata": {},
   "source": [
    "# Result - 1.2.c"
   ]
  },
  {
   "cell_type": "markdown",
   "metadata": {},
   "source": [
    "### Bar Chart - RMSE for all types of users"
   ]
  },
  {
   "cell_type": "code",
   "execution_count": 19,
   "metadata": {
    "collapsed": false,
    "scrolled": true
   },
   "outputs": [
    {
     "data": {
      "image/png": "[encoded data removed]",
      "text/plain": [
       "<matplotlib.figure.Figure at 0x11543d650>"
      ]
     },
     "metadata": {},
     "output_type": "display_data"
    }
   ],
   "source": [
    "# Set the data\n",
    "RMSE_test_ratings = [RMSE_rating1, RMSE_rating2, RMSE_rating3, RMSE_rating4, RMSE_rating5]\n",
    "n_bar = 5\n",
    "index = np.arange(n_bar)  \n",
    "bar_width = 0.8\n",
    "rects = plt.bar(index, RMSE_test_ratings, bar_width, alpha=0.5, color='b')  \n",
    "\n",
    "plt.xlabel('User Types') \n",
    "plt.ylabel('RMSE')\n",
    "plt.title('RMSE for all the test ratings') \n",
    "plt.xticks(index, (str(round((min_user_avg),2)), str(round((min_user_avg + step),2)), \n",
    "                   str(round((min_user_avg + 2*step),2)), str(round((min_user_avg + 3*step),2)), \n",
    "                   str(round((min_user_avg + 4*step),2)))) \n",
    "plt.ylim(0,1.5) \n",
    "\n",
    "plt.tight_layout()\n",
    "plt.show()"
   ]
  },
  {
   "cell_type": "markdown",
   "metadata": {},
   "source": [
    "# Recommender System - KNN"
   ]
  },
  {
   "cell_type": "markdown",
   "metadata": {},
   "source": [
    "### Define the funtion to calcualte the similarity between two items"
   ]
  },
  {
   "cell_type": "code",
   "execution_count": 20,
   "metadata": {
    "collapsed": true
   },
   "outputs": [],
   "source": [
    "def similarity(item_1,item_2,data):\n",
    "    temp_1 = data[data[\"item_id\"] == item_1]\n",
    "    temp_2 = data[data[\"item_id\"] == item_2]\n",
    "    \n",
    "    user_temp_1 = np.array(temp_1[\"user_id\"]).tolist()\n",
    "    user_temp_2 = np.array(temp_2[\"user_id\"]).tolist()\n",
    "    \n",
    "    user_union = [val for val in user_temp_1 if val in user_temp_2]\n",
    "    \n",
    "    if len(user_union) == 0:\n",
    "        return 0.00001 #Assume 99 is a infinite number for similarity problem\n",
    "    else:  \n",
    "        sum_numerator = 0\n",
    "        sum_denominator_left = 0\n",
    "        sum_denominator_right = 0\n",
    "     \n",
    "        for user in user_union:\n",
    "            avg_rating = avg_user_rating[user-1]\n",
    "        \n",
    "            rating_1 = matrix_ua_train[user-1][item_1-1]\n",
    "            rating_2 = matrix_ua_train[user-1][item_2-1]\n",
    "        \n",
    "            temp_numerator = (rating_1 - avg_rating) * (rating_2 - avg_rating)\n",
    "            temp_denominator_left = math.pow((rating_1 - avg_rating),2)\n",
    "            temp_denominator_right = math.pow((rating_2 - avg_rating),2)\n",
    "          \n",
    "            sum_numerator += temp_numerator\n",
    "            sum_denominator_left += temp_denominator_left\n",
    "            sum_denominator_right += temp_denominator_right\n",
    "        \n",
    "        similarity_result = sum_numerator/((math.pow(sum_denominator_left*sum_denominator_right,0.5)) + 0.00001)\n",
    "    \n",
    "        return similarity_result"
   ]
  },
  {
   "cell_type": "markdown",
   "metadata": {},
   "source": [
    "### Create the similarity matrix"
   ]
  },
  {
   "cell_type": "code",
   "execution_count": 21,
   "metadata": {
    "collapsed": false
   },
   "outputs": [
    {
     "name": "stdout",
     "output_type": "stream",
     "text": [
      "0\n",
      "1000\n"
     ]
    }
   ],
   "source": [
    "matrix_similarity = np.zeros(shape = (1682,1682))\n",
    "\n",
    "# Fill the matrix\n",
    "\n",
    "for i in range(1682):\n",
    "    \n",
    "    #Record the process\n",
    "    if i%1000 == 0:\n",
    "        print i\n",
    "        \n",
    "    for j in  range(i,1682):\n",
    "        if i == j:\n",
    "            matrix_similarity[i][j] = 0\n",
    "        else:\n",
    "            matrix_similarity[i][j] = similarity(i+1,j+1,data_ua_train)"
   ]
  },
  {
   "cell_type": "code",
   "execution_count": 22,
   "metadata": {
    "collapsed": true
   },
   "outputs": [],
   "source": [
    "matrix_sim = matrix_similarity + matrix_similarity.T"
   ]
  },
  {
   "cell_type": "markdown",
   "metadata": {},
   "source": [
    "### Record the TOP similarity items in test"
   ]
  },
  {
   "cell_type": "code",
   "execution_count": 23,
   "metadata": {
    "collapsed": false
   },
   "outputs": [],
   "source": [
    "test_list_user, test_list_item, test_list_rating = get_list(data_ua_test)\n",
    "\n",
    "dic_test_top10 = {}\n",
    "\n",
    "for i in range(len(test_list_user)):\n",
    "    \n",
    "    temp_item = test_list_item[i]\n",
    "    temp_user = test_list_user[i]\n",
    "    temp_similarity = []\n",
    "    temp_top = []\n",
    "    \n",
    "    temp_user_item = data_ua_train[data_ua_train[\"user_id\"] == temp_user][\"item_id\"].tolist()\n",
    "    \n",
    "    for item in temp_user_item:\n",
    "        temp_similarity.append(abs(matrix_sim[item-1][temp_item-1]))\n",
    "    \n",
    "    temp_item_similarity = pd.Series(temp_similarity)\n",
    "    top_10 = temp_item_similarity.sort_values(ascending=False).head(10)\n",
    "    temp_list = top_10.index.tolist()\n",
    "    \n",
    "    \n",
    "    for j in range(10):\n",
    "        temp_top.append(temp_user_item[temp_list[j]])\n",
    "        \n",
    "    dic_test_top10[str(temp_user) + \"+\" + str(temp_item)] = temp_top"
   ]
  },
  {
   "cell_type": "markdown",
   "metadata": {},
   "source": [
    "### Define the function to calculate RMSE for KNN"
   ]
  },
  {
   "cell_type": "code",
   "execution_count": 24,
   "metadata": {
    "collapsed": true
   },
   "outputs": [],
   "source": [
    "def cal_RMSE_KNN(user_test, item_test, rating_test, k):\n",
    "    \n",
    "    RMSE_sum = 0\n",
    "    num_rating = rating_test.size\n",
    "    \n",
    "    for i in range(num_rating):\n",
    "        \n",
    "        temp_item = item_test[i]\n",
    "        temp_user = user_test[i]\n",
    "        temp_top10 = dic_test_top10[str(temp_user) + \"+\" + str(temp_item)] \n",
    "    \n",
    "        sum_similarity = 0\n",
    "        sum_sim_rating = 0\n",
    "        similarity_value = []\n",
    "        similarity_item_rating = []\n",
    "                \n",
    "        # Calculate the predict rating \n",
    "        for j in range(k):\n",
    "            \n",
    "            similarity_item_rating.append(matrix_ua_train[temp_user-1][temp_top10[j]-1]) # Get the rating for sim item\n",
    "            similarity_value.append(abs(matrix_sim[temp_item-1][temp_top10[j]-1])) # Get the sim value\n",
    "            sum_sim_rating += similarity_value[j] * similarity_item_rating[j]\n",
    "            sum_similarity += similarity_value[j]\n",
    "            \n",
    "        rating_pre = sum_sim_rating/sum_similarity  \n",
    "         \n",
    "        temp_error = math.pow((rating_pre - rating_test[i]),2)\n",
    "        RMSE_sum += temp_error\n",
    "        \n",
    "    RMSE_value = math.pow(RMSE_sum/num_rating,0.5) \n",
    "    \n",
    "    return RMSE_value"
   ]
  },
  {
   "cell_type": "markdown",
   "metadata": {},
   "source": [
    "# Result - 1.3.a"
   ]
  },
  {
   "cell_type": "markdown",
   "metadata": {},
   "source": [
    "### Compute the RMSE for Different K values"
   ]
  },
  {
   "cell_type": "code",
   "execution_count": 25,
   "metadata": {
    "collapsed": false
   },
   "outputs": [
    {
     "name": "stdout",
     "output_type": "stream",
     "text": [
      "-----------------------------Result for RMSE_K_1------------------------------------\n",
      "1.5537386922\n",
      "-----------------------------Result for RMSE_K_2------------------------------------\n",
      "1.34973503629\n",
      "-----------------------------Result for RMSE_K_3------------------------------------\n",
      "1.26854767836\n",
      "-----------------------------Result for RMSE_K_5------------------------------------\n",
      "1.20097337913\n",
      "-----------------------------Result for RMSE_K_10------------------------------------\n",
      "1.1334453534\n"
     ]
    }
   ],
   "source": [
    "RMSE_K_1 = cal_RMSE_KNN(test_list_user, test_list_item, test_list_rating, 1)\n",
    "print \"-----------------------------Result for RMSE_K_1------------------------------------\"\n",
    "print RMSE_K_1\n",
    "\n",
    "RMSE_K_2 = cal_RMSE_KNN(test_list_user, test_list_item, test_list_rating, 2)\n",
    "print \"-----------------------------Result for RMSE_K_2------------------------------------\"\n",
    "print RMSE_K_2\n",
    "\n",
    "RMSE_K_3 = cal_RMSE_KNN(test_list_user, test_list_item, test_list_rating, 3)\n",
    "print \"-----------------------------Result for RMSE_K_3------------------------------------\"\n",
    "print RMSE_K_3\n",
    "\n",
    "RMSE_K_5 = cal_RMSE_KNN(test_list_user, test_list_item, test_list_rating, 5)\n",
    "print \"-----------------------------Result for RMSE_K_5------------------------------------\"\n",
    "print RMSE_K_5\n",
    "\n",
    "RMSE_K_10 = cal_RMSE_KNN(test_list_user, test_list_item, test_list_rating, 10)\n",
    "print \"-----------------------------Result for RMSE_K_10------------------------------------\"\n",
    "print RMSE_K_10"
   ]
  },
  {
   "cell_type": "markdown",
   "metadata": {},
   "source": [
    "Conclusion : Hence, k = 10 is the optimal one"
   ]
  },
  {
   "cell_type": "markdown",
   "metadata": {},
   "source": [
    "### Calculate the RMSE for different test rating using KNN (K = 2)"
   ]
  },
  {
   "cell_type": "code",
   "execution_count": 26,
   "metadata": {
    "collapsed": false
   },
   "outputs": [
    {
     "name": "stdout",
     "output_type": "stream",
     "text": [
      "-----------------------------Result for RMSE_rating1------------------------------------\n",
      "2.18977212937\n",
      "-----------------------------Result for RMSE_rating2------------------------------------\n",
      "1.45470230833\n",
      "-----------------------------Result for RMSE_rating3------------------------------------\n",
      "0.921068383779\n",
      "-----------------------------Result for RMSE_rating4------------------------------------\n",
      "1.10070196635\n",
      "-----------------------------Result for RMSE_rating5------------------------------------\n",
      "1.72425418067\n"
     ]
    }
   ],
   "source": [
    "# For rating 1\n",
    "rating1 = data_ua_test[data_ua_test[\"rating\"] == 1]\n",
    "test_list_user, test_list_item, test_list_rating = get_list(rating1)\n",
    "RMSE_rating1_k_2 = cal_RMSE_KNN(test_list_user, test_list_item, test_list_rating, 2)\n",
    "\n",
    "print \"-----------------------------Result for RMSE_rating1------------------------------------\"\n",
    "print RMSE_rating1_k_2\n",
    "\n",
    "# For rating 2\n",
    "rating2 = data_ua_test[data_ua_test[\"rating\"] == 2]\n",
    "test_list_user, test_list_item, test_list_rating = get_list(rating2)\n",
    "RMSE_rating2_k_2 = cal_RMSE_KNN(test_list_user, test_list_item, test_list_rating, 2)\n",
    "\n",
    "print \"-----------------------------Result for RMSE_rating2------------------------------------\"\n",
    "print RMSE_rating2_k_2\n",
    "\n",
    "# For rating 3\n",
    "rating3 = data_ua_test[data_ua_test[\"rating\"] == 3]\n",
    "test_list_user, test_list_item, test_list_rating = get_list(rating3)\n",
    "RMSE_rating3_k_2 = cal_RMSE_KNN(test_list_user, test_list_item, test_list_rating, 2)\n",
    "\n",
    "print \"-----------------------------Result for RMSE_rating3------------------------------------\"\n",
    "print RMSE_rating3_k_2\n",
    "\n",
    "# For rating 4\n",
    "rating4 = data_ua_test[data_ua_test[\"rating\"] == 4]\n",
    "test_list_user, test_list_item, test_list_rating = get_list(rating4)\n",
    "RMSE_rating4_k_2 = cal_RMSE_KNN(test_list_user, test_list_item, test_list_rating, 2)\n",
    "\n",
    "print \"-----------------------------Result for RMSE_rating4------------------------------------\"\n",
    "print RMSE_rating4_k_2\n",
    "\n",
    "# For rating 5\n",
    "rating5 = data_ua_test[data_ua_test[\"rating\"] == 5]\n",
    "test_list_user, test_list_item, test_list_rating = get_list(rating5)\n",
    "RMSE_rating5_k_2 = cal_RMSE_KNN(test_list_user, test_list_item, test_list_rating, 2)\n",
    "\n",
    "print \"-----------------------------Result for RMSE_rating5------------------------------------\"\n",
    "print RMSE_rating5_k_2"
   ]
  },
  {
   "cell_type": "markdown",
   "metadata": {},
   "source": [
    "# Result - 1.3.b"
   ]
  },
  {
   "cell_type": "markdown",
   "metadata": {},
   "source": [
    "### Bar Chart - RMSE for different ratings using KNN (K=2)"
   ]
  },
  {
   "cell_type": "code",
   "execution_count": 27,
   "metadata": {
    "collapsed": false
   },
   "outputs": [
    {
     "data": {
      "image/png": "[encoded data removed]",
      "text/plain": [
       "<matplotlib.figure.Figure at 0x119808390>"
      ]
     },
     "metadata": {},
     "output_type": "display_data"
    }
   ],
   "source": [
    "# Set the data\n",
    "RMSE_test_ratings = [RMSE_rating1_k_2, RMSE_rating2_k_2, RMSE_rating3_k_2, RMSE_rating4_k_2, RMSE_rating5_k_2]\n",
    "n_bar = 5\n",
    "index = np.arange(n_bar)  \n",
    "bar_width = 0.8\n",
    "rects = plt.bar(index, RMSE_test_ratings, bar_width, alpha=0.5, color='b')  \n",
    "\n",
    "plt.xlabel('Ratings') \n",
    "plt.ylabel('RMSE')\n",
    "plt.title('RMSE for different ratings using KNN (K=2)') \n",
    "plt.xticks(index, ('1', '2', '3', '4', '5')) \n",
    "plt.ylim(0,3) \n",
    "\n",
    "plt.tight_layout()\n",
    "plt.show()"
   ]
  },
  {
   "cell_type": "markdown",
   "metadata": {},
   "source": [
    "### Calculate the RMSE for different test rating using KNN (K = 5)"
   ]
  },
  {
   "cell_type": "code",
   "execution_count": 28,
   "metadata": {
    "collapsed": false
   },
   "outputs": [
    {
     "name": "stdout",
     "output_type": "stream",
     "text": [
      "-----------------------------Result for RMSE_rating1------------------------------------\n",
      "2.14730886484\n",
      "-----------------------------Result for RMSE_rating2------------------------------------\n",
      "1.3784441852\n",
      "-----------------------------Result for RMSE_rating3------------------------------------\n",
      "0.735160749346\n",
      "-----------------------------Result for RMSE_rating4------------------------------------\n",
      "0.889874183255\n",
      "-----------------------------Result for RMSE_rating5------------------------------------\n",
      "1.5653535719\n"
     ]
    }
   ],
   "source": [
    "# For rating 1\n",
    "rating1 = data_ua_test[data_ua_test[\"rating\"] == 1]\n",
    "test_list_user, test_list_item, test_list_rating = get_list(rating1)\n",
    "RMSE_rating1_k_5 = cal_RMSE_KNN(test_list_user, test_list_item, test_list_rating, 5)\n",
    "\n",
    "print \"-----------------------------Result for RMSE_rating1------------------------------------\"\n",
    "print RMSE_rating1_k_5\n",
    "\n",
    "# For rating 2\n",
    "rating2 = data_ua_test[data_ua_test[\"rating\"] == 2]\n",
    "test_list_user, test_list_item, test_list_rating = get_list(rating2)\n",
    "RMSE_rating2_k_5 = cal_RMSE_KNN(test_list_user, test_list_item, test_list_rating, 5)\n",
    "\n",
    "print \"-----------------------------Result for RMSE_rating2------------------------------------\"\n",
    "print RMSE_rating2_k_5\n",
    "\n",
    "# For rating 3\n",
    "rating3 = data_ua_test[data_ua_test[\"rating\"] == 3]\n",
    "test_list_user, test_list_item, test_list_rating = get_list(rating3)\n",
    "RMSE_rating3_k_5 = cal_RMSE_KNN(test_list_user, test_list_item, test_list_rating, 5)\n",
    "\n",
    "print \"-----------------------------Result for RMSE_rating3------------------------------------\"\n",
    "print RMSE_rating3_k_5\n",
    "\n",
    "# For rating 4\n",
    "rating4 = data_ua_test[data_ua_test[\"rating\"] == 4]\n",
    "test_list_user, test_list_item, test_list_rating = get_list(rating4)\n",
    "RMSE_rating4_k_5 = cal_RMSE_KNN(test_list_user, test_list_item, test_list_rating, 5)\n",
    "\n",
    "print \"-----------------------------Result for RMSE_rating4------------------------------------\"\n",
    "print RMSE_rating4_k_5\n",
    "\n",
    "# For rating 5\n",
    "rating5 = data_ua_test[data_ua_test[\"rating\"] == 5]\n",
    "test_list_user, test_list_item, test_list_rating = get_list(rating5)\n",
    "RMSE_rating5_k_5 = cal_RMSE_KNN(test_list_user, test_list_item, test_list_rating, 5)\n",
    "\n",
    "print \"-----------------------------Result for RMSE_rating5------------------------------------\"\n",
    "print RMSE_rating5_k_5"
   ]
  },
  {
   "cell_type": "markdown",
   "metadata": {},
   "source": [
    "# Result - 1.3.b"
   ]
  },
  {
   "cell_type": "markdown",
   "metadata": {},
   "source": [
    "### Bar Chart - RMSE for different ratings using KNN (K=5)"
   ]
  },
  {
   "cell_type": "code",
   "execution_count": 29,
   "metadata": {
    "collapsed": false
   },
   "outputs": [
    {
     "data": {
      "image/png": "[encoded data removed]",
      "text/plain": [
       "<matplotlib.figure.Figure at 0x114d39a50>"
      ]
     },
     "metadata": {},
     "output_type": "display_data"
    }
   ],
   "source": [
    "# Set the data\n",
    "RMSE_test_ratings = [RMSE_rating1_k_5, RMSE_rating2_k_5, RMSE_rating3_k_5, RMSE_rating4_k_5, RMSE_rating5_k_5]\n",
    "n_bar = 5\n",
    "index = np.arange(n_bar)  \n",
    "bar_width = 0.8\n",
    "rects = plt.bar(index, RMSE_test_ratings, bar_width, alpha=0.5, color='b')  \n",
    "\n",
    "plt.xlabel('Ratings') \n",
    "plt.ylabel('RMSE')\n",
    "plt.title('RMSE for different ratings using KNN (K=5)') \n",
    "plt.xticks(index, ('1', '2', '3', '4', '5')) \n",
    "plt.ylim(0,3) \n",
    "\n",
    "plt.tight_layout()\n",
    "plt.show()"
   ]
  },
  {
   "cell_type": "markdown",
   "metadata": {},
   "source": [
    "# Result - 1.3.c"
   ]
  },
  {
   "cell_type": "markdown",
   "metadata": {},
   "source": [
    "### Calculate the RMSE for different types of users using KNN (K = 1)"
   ]
  },
  {
   "cell_type": "code",
   "execution_count": 30,
   "metadata": {
    "collapsed": false
   },
   "outputs": [
    {
     "name": "stdout",
     "output_type": "stream",
     "text": [
      "-----------------------------Result for RMSE_rating1------------------------------------\n",
      "1.38443731049\n",
      "-----------------------------Result for RMSE_rating2------------------------------------\n",
      "1.87794213613\n",
      "-----------------------------Result for RMSE_rating3------------------------------------\n",
      "1.63968163322\n",
      "-----------------------------Result for RMSE_rating4------------------------------------\n",
      "1.48701274257\n",
      "-----------------------------Result for RMSE_rating5------------------------------------\n",
      "1.23871959277\n"
     ]
    }
   ],
   "source": [
    "### For rating 1\n",
    "rating1 = data_ua_test[data_ua_test[\"user_id\"].isin(user_list_step1)]\n",
    "test_list_user, test_list_item, test_list_rating = get_list(rating1)\n",
    "RMSE_rating1_k_1 = cal_RMSE_KNN(test_list_user, test_list_item, test_list_rating, 1)\n",
    "\n",
    "print \"-----------------------------Result for RMSE_rating1------------------------------------\"\n",
    "print RMSE_rating1_k_1\n",
    "\n",
    "# For rating 2\n",
    "rating2 = data_ua_test[data_ua_test[\"user_id\"].isin(user_list_step2)]\n",
    "test_list_user, test_list_item, test_list_rating = get_list(rating2)\n",
    "RMSE_rating2_k_1 = cal_RMSE_KNN(test_list_user, test_list_item, test_list_rating, 1)\n",
    "\n",
    "print \"-----------------------------Result for RMSE_rating2------------------------------------\"\n",
    "print RMSE_rating2_k_1\n",
    "\n",
    "# For rating 3\n",
    "rating3 = data_ua_test[data_ua_test[\"user_id\"].isin(user_list_step3)]\n",
    "test_list_user, test_list_item, test_list_rating = get_list(rating3)\n",
    "RMSE_rating3_k_1 = cal_RMSE_KNN(test_list_user, test_list_item, test_list_rating, 1)\n",
    "\n",
    "print \"-----------------------------Result for RMSE_rating3------------------------------------\"\n",
    "print RMSE_rating3_k_1\n",
    "\n",
    "# For rating 4\n",
    "rating4 = data_ua_test[data_ua_test[\"user_id\"].isin(user_list_step4)]\n",
    "test_list_user, test_list_item, test_list_rating = get_list(rating4)\n",
    "RMSE_rating4_k_1 = cal_RMSE_KNN(test_list_user, test_list_item, test_list_rating, 1)\n",
    "\n",
    "print \"-----------------------------Result for RMSE_rating4------------------------------------\"\n",
    "print RMSE_rating4_k_1\n",
    "\n",
    "# For rating 5\n",
    "rating5 = data_ua_test[data_ua_test[\"user_id\"].isin(user_list_step5)]\n",
    "test_list_user, test_list_item, test_list_rating = get_list(rating5)\n",
    "RMSE_rating5_k_1 = cal_RMSE_KNN(test_list_user, test_list_item, test_list_rating, 1)\n",
    "\n",
    "print \"-----------------------------Result for RMSE_rating5------------------------------------\"\n",
    "print RMSE_rating5_k_1"
   ]
  },
  {
   "cell_type": "markdown",
   "metadata": {},
   "source": [
    "### Bar Chart - RMSE for different types of users using KNN (K=1)"
   ]
  },
  {
   "cell_type": "code",
   "execution_count": 31,
   "metadata": {
    "collapsed": false
   },
   "outputs": [
    {
     "data": {
      "image/png": "[encoded data removed]",
      "text/plain": [
       "<matplotlib.figure.Figure at 0x114bd5590>"
      ]
     },
     "metadata": {},
     "output_type": "display_data"
    }
   ],
   "source": [
    "# Set the data\n",
    "RMSE_test_ratings = [RMSE_rating1_k_1, RMSE_rating2_k_1, RMSE_rating3_k_1, RMSE_rating4_k_1, RMSE_rating5_k_1]\n",
    "n_bar = 5\n",
    "index = np.arange(n_bar)  \n",
    "bar_width = 0.8\n",
    "rects = plt.bar(index, RMSE_test_ratings, bar_width, alpha=0.5, color='b')  \n",
    "\n",
    "plt.xlabel('Ratings') \n",
    "plt.ylabel('RMSE')\n",
    "plt.title('RMSE for different types of users using KNN (K=1)') \n",
    "plt.xticks(index, ('1', '2', '3', '4', '5')) \n",
    "plt.ylim(0,2) \n",
    "\n",
    "plt.tight_layout()\n",
    "plt.show()"
   ]
  },
  {
   "cell_type": "markdown",
   "metadata": {},
   "source": [
    "### Calculate the RMSE for different types of users using KNN (K = 2)"
   ]
  },
  {
   "cell_type": "code",
   "execution_count": 32,
   "metadata": {
    "collapsed": false
   },
   "outputs": [
    {
     "name": "stdout",
     "output_type": "stream",
     "text": [
      "-----------------------------Result for RMSE_rating1------------------------------------\n",
      "1.33657787458\n",
      "-----------------------------Result for RMSE_rating2------------------------------------\n",
      "1.71448008557\n",
      "-----------------------------Result for RMSE_rating3------------------------------------\n",
      "1.41953747904\n",
      "-----------------------------Result for RMSE_rating4------------------------------------\n",
      "1.28476124547\n",
      "-----------------------------Result for RMSE_rating5------------------------------------\n",
      "1.06762255126\n"
     ]
    }
   ],
   "source": [
    "### For rating 1\n",
    "rating1 = data_ua_test[data_ua_test[\"user_id\"].isin(user_list_step1)]\n",
    "test_list_user, test_list_item, test_list_rating = get_list(rating1)\n",
    "RMSE_rating1_k_2 = cal_RMSE_KNN(test_list_user, test_list_item, test_list_rating, 2)\n",
    "\n",
    "print \"-----------------------------Result for RMSE_rating1------------------------------------\"\n",
    "print RMSE_rating1_k_2\n",
    "\n",
    "# For rating 2\n",
    "rating2 = data_ua_test[data_ua_test[\"user_id\"].isin(user_list_step2)]\n",
    "test_list_user, test_list_item, test_list_rating = get_list(rating2)\n",
    "RMSE_rating2_k_2 = cal_RMSE_KNN(test_list_user, test_list_item, test_list_rating, 2)\n",
    "\n",
    "print \"-----------------------------Result for RMSE_rating2------------------------------------\"\n",
    "print RMSE_rating2_k_2\n",
    "\n",
    "# For rating 3\n",
    "rating3 = data_ua_test[data_ua_test[\"user_id\"].isin(user_list_step3)]\n",
    "test_list_user, test_list_item, test_list_rating = get_list(rating3)\n",
    "RMSE_rating3_k_2 = cal_RMSE_KNN(test_list_user, test_list_item, test_list_rating, 2)\n",
    "\n",
    "print \"-----------------------------Result for RMSE_rating3------------------------------------\"\n",
    "print RMSE_rating3_k_2\n",
    "\n",
    "# For rating 4\n",
    "rating4 = data_ua_test[data_ua_test[\"user_id\"].isin(user_list_step4)]\n",
    "test_list_user, test_list_item, test_list_rating = get_list(rating4)\n",
    "RMSE_rating4_k_2 = cal_RMSE_KNN(test_list_user, test_list_item, test_list_rating, 2)\n",
    "\n",
    "print \"-----------------------------Result for RMSE_rating4------------------------------------\"\n",
    "print RMSE_rating4_k_2\n",
    "\n",
    "# For rating 5\n",
    "rating5 = data_ua_test[data_ua_test[\"user_id\"].isin(user_list_step5)]\n",
    "test_list_user, test_list_item, test_list_rating = get_list(rating5)\n",
    "RMSE_rating5_k_2 = cal_RMSE_KNN(test_list_user, test_list_item, test_list_rating, 2)\n",
    "\n",
    "print \"-----------------------------Result for RMSE_rating5------------------------------------\"\n",
    "print RMSE_rating5_k_2"
   ]
  },
  {
   "cell_type": "markdown",
   "metadata": {},
   "source": [
    "### Bar Chart - RMSE for different types of users using KNN (K=2)"
   ]
  },
  {
   "cell_type": "code",
   "execution_count": 33,
   "metadata": {
    "collapsed": false
   },
   "outputs": [
    {
     "data": {
      "image/png": "[encoded data removed]",
      "text/plain": [
       "<matplotlib.figure.Figure at 0x114c12510>"
      ]
     },
     "metadata": {},
     "output_type": "display_data"
    }
   ],
   "source": [
    "# Set the data\n",
    "RMSE_test_ratings = [RMSE_rating1_k_2, RMSE_rating2_k_2, RMSE_rating3_k_2, RMSE_rating4_k_2, RMSE_rating5_k_2]\n",
    "n_bar = 5\n",
    "index = np.arange(n_bar)  \n",
    "bar_width = 0.8\n",
    "rects = plt.bar(index, RMSE_test_ratings, bar_width, alpha=0.5, color='b')  \n",
    "\n",
    "plt.xlabel('Ratings') \n",
    "plt.ylabel('RMSE')\n",
    "plt.title('RMSE for different types of users using KNN (K=2)') \n",
    "plt.xticks(index, ('1', '2', '3', '4', '5')) \n",
    "plt.ylim(0,2) \n",
    "\n",
    "plt.tight_layout()\n",
    "plt.show()"
   ]
  },
  {
   "cell_type": "markdown",
   "metadata": {},
   "source": [
    "### Calculate the RMSE for different types of users using KNN (K = 3)"
   ]
  },
  {
   "cell_type": "code",
   "execution_count": 34,
   "metadata": {
    "collapsed": false
   },
   "outputs": [
    {
     "name": "stdout",
     "output_type": "stream",
     "text": [
      "-----------------------------Result for RMSE_rating1------------------------------------\n",
      "1.37034091509\n",
      "-----------------------------Result for RMSE_rating2------------------------------------\n",
      "1.60228239479\n",
      "-----------------------------Result for RMSE_rating3------------------------------------\n",
      "1.33640736609\n",
      "-----------------------------Result for RMSE_rating4------------------------------------\n",
      "1.20522518751\n",
      "-----------------------------Result for RMSE_rating5------------------------------------\n",
      "1.00200087933\n"
     ]
    }
   ],
   "source": [
    "# For rating 1\n",
    "rating1 = data_ua_test[data_ua_test[\"user_id\"].isin(user_list_step1)]\n",
    "test_list_user, test_list_item, test_list_rating = get_list(rating1)\n",
    "RMSE_rating1_k_3 = cal_RMSE_KNN(test_list_user, test_list_item, test_list_rating, 3)\n",
    "\n",
    "print \"-----------------------------Result for RMSE_rating1------------------------------------\"\n",
    "print RMSE_rating1_k_3\n",
    "\n",
    "# For rating 2\n",
    "rating2 = data_ua_test[data_ua_test[\"user_id\"].isin(user_list_step2)]\n",
    "test_list_user, test_list_item, test_list_rating = get_list(rating2)\n",
    "RMSE_rating2_k_3 = cal_RMSE_KNN(test_list_user, test_list_item, test_list_rating, 3)\n",
    "\n",
    "print \"-----------------------------Result for RMSE_rating2------------------------------------\"\n",
    "print RMSE_rating2_k_3\n",
    "\n",
    "# For rating 3\n",
    "rating3 = data_ua_test[data_ua_test[\"user_id\"].isin(user_list_step3)]\n",
    "test_list_user, test_list_item, test_list_rating = get_list(rating3)\n",
    "RMSE_rating3_k_3 = cal_RMSE_KNN(test_list_user, test_list_item, test_list_rating, 3)\n",
    "\n",
    "print \"-----------------------------Result for RMSE_rating3------------------------------------\"\n",
    "print RMSE_rating3_k_3\n",
    "\n",
    "# For rating 4\n",
    "rating4 = data_ua_test[data_ua_test[\"user_id\"].isin(user_list_step4)]\n",
    "test_list_user, test_list_item, test_list_rating = get_list(rating4)\n",
    "RMSE_rating4_k_3 = cal_RMSE_KNN(test_list_user, test_list_item, test_list_rating, 3)\n",
    "\n",
    "print \"-----------------------------Result for RMSE_rating4------------------------------------\"\n",
    "print RMSE_rating4_k_3\n",
    "\n",
    "# For rating 5\n",
    "rating5 = data_ua_test[data_ua_test[\"user_id\"].isin(user_list_step5)]\n",
    "test_list_user, test_list_item, test_list_rating = get_list(rating5)\n",
    "RMSE_rating5_k_3 = cal_RMSE_KNN(test_list_user, test_list_item, test_list_rating, 3)\n",
    "\n",
    "print \"-----------------------------Result for RMSE_rating5------------------------------------\"\n",
    "print RMSE_rating5_k_3"
   ]
  },
  {
   "cell_type": "markdown",
   "metadata": {},
   "source": [
    "### Bar Chart - RMSE for different types of users using KNN (K=3)"
   ]
  },
  {
   "cell_type": "code",
   "execution_count": 35,
   "metadata": {
    "collapsed": false
   },
   "outputs": [
    {
     "data": {
      "image/png": "[encoded data removed]",
      "text/plain": [
       "<matplotlib.figure.Figure at 0x1149c9ed0>"
      ]
     },
     "metadata": {},
     "output_type": "display_data"
    }
   ],
   "source": [
    "# Set the data\n",
    "RMSE_test_ratings = [RMSE_rating1_k_3, RMSE_rating2_k_3, RMSE_rating3_k_3, RMSE_rating4_k_3, RMSE_rating5_k_3]\n",
    "n_bar = 5\n",
    "index = np.arange(n_bar)  \n",
    "bar_width = 0.8\n",
    "rects = plt.bar(index, RMSE_test_ratings, bar_width, alpha=0.5, color='b')  \n",
    "\n",
    "plt.xlabel('Ratings') \n",
    "plt.ylabel('RMSE')\n",
    "plt.title('RMSE for different types of users using KNN (K=3)') \n",
    "plt.xticks(index, ('1', '2', '3', '4', '5')) \n",
    "plt.ylim(0,2) \n",
    "\n",
    "plt.tight_layout()\n",
    "plt.show()"
   ]
  },
  {
   "cell_type": "markdown",
   "metadata": {},
   "source": [
    "### Calculate the RMSE for different types of users using KNN (K = 5)"
   ]
  },
  {
   "cell_type": "code",
   "execution_count": 36,
   "metadata": {
    "collapsed": false
   },
   "outputs": [
    {
     "name": "stdout",
     "output_type": "stream",
     "text": [
      "-----------------------------Result for RMSE_rating1------------------------------------\n",
      "1.37582575141\n",
      "-----------------------------Result for RMSE_rating2------------------------------------\n",
      "1.49730466277\n",
      "-----------------------------Result for RMSE_rating3------------------------------------\n",
      "1.26344024679\n",
      "-----------------------------Result for RMSE_rating4------------------------------------\n",
      "1.14335967285\n",
      "-----------------------------Result for RMSE_rating5------------------------------------\n",
      "0.953603054143\n"
     ]
    }
   ],
   "source": [
    "# For rating 1\n",
    "rating1 = data_ua_test[data_ua_test[\"user_id\"].isin(user_list_step1)]\n",
    "test_list_user, test_list_item, test_list_rating = get_list(rating1)\n",
    "RMSE_rating1_k_5 = cal_RMSE_KNN(test_list_user, test_list_item, test_list_rating, 5)\n",
    "\n",
    "print \"-----------------------------Result for RMSE_rating1------------------------------------\"\n",
    "print RMSE_rating1_k_5\n",
    "\n",
    "# For rating 2\n",
    "rating2 = data_ua_test[data_ua_test[\"user_id\"].isin(user_list_step2)]\n",
    "test_list_user, test_list_item, test_list_rating = get_list(rating2)\n",
    "RMSE_rating2_k_5 = cal_RMSE_KNN(test_list_user, test_list_item, test_list_rating, 5)\n",
    "\n",
    "print \"-----------------------------Result for RMSE_rating2------------------------------------\"\n",
    "print RMSE_rating2_k_5\n",
    "\n",
    "# For rating 3\n",
    "rating3 = data_ua_test[data_ua_test[\"user_id\"].isin(user_list_step3)]\n",
    "test_list_user, test_list_item, test_list_rating = get_list(rating3)\n",
    "RMSE_rating3_k_5 = cal_RMSE_KNN(test_list_user, test_list_item, test_list_rating, 5)\n",
    "\n",
    "print \"-----------------------------Result for RMSE_rating3------------------------------------\"\n",
    "print RMSE_rating3_k_5\n",
    "\n",
    "# For rating 4\n",
    "rating4 = data_ua_test[data_ua_test[\"user_id\"].isin(user_list_step4)]\n",
    "test_list_user, test_list_item, test_list_rating = get_list(rating4)\n",
    "RMSE_rating4_k_5 = cal_RMSE_KNN(test_list_user, test_list_item, test_list_rating, 5)\n",
    "\n",
    "print \"-----------------------------Result for RMSE_rating4------------------------------------\"\n",
    "print RMSE_rating4_k_5\n",
    "\n",
    "# For rating 5\n",
    "rating5 = data_ua_test[data_ua_test[\"user_id\"].isin(user_list_step5)]\n",
    "test_list_user, test_list_item, test_list_rating = get_list(rating5)\n",
    "RMSE_rating5_k_5 = cal_RMSE_KNN(test_list_user, test_list_item, test_list_rating, 5)\n",
    "\n",
    "print \"-----------------------------Result for RMSE_rating5------------------------------------\"\n",
    "print RMSE_rating5_k_5"
   ]
  },
  {
   "cell_type": "markdown",
   "metadata": {},
   "source": [
    "### Bar Chart - RMSE for different types of users using KNN (K=5)"
   ]
  },
  {
   "cell_type": "code",
   "execution_count": 37,
   "metadata": {
    "collapsed": false
   },
   "outputs": [
    {
     "data": {
      "image/png": "[encoded data removed]",
      "text/plain": [
       "<matplotlib.figure.Figure at 0x115d4df50>"
      ]
     },
     "metadata": {},
     "output_type": "display_data"
    }
   ],
   "source": [
    "# Set the data\n",
    "RMSE_test_ratings = [RMSE_rating1_k_5, RMSE_rating2_k_5, RMSE_rating3_k_5, RMSE_rating4_k_5, RMSE_rating5_k_5]\n",
    "n_bar = 5\n",
    "index = np.arange(n_bar)  \n",
    "bar_width = 0.8\n",
    "rects = plt.bar(index, RMSE_test_ratings, bar_width, alpha=0.5, color='b')  \n",
    "\n",
    "plt.xlabel('Ratings') \n",
    "plt.ylabel('RMSE')\n",
    "plt.title('RMSE for different types of users using KNN (K=5)') \n",
    "plt.xticks(index, ('1', '2', '3', '4', '5')) \n",
    "plt.ylim(0,2) \n",
    "\n",
    "plt.tight_layout()\n",
    "plt.show()"
   ]
  },
  {
   "cell_type": "markdown",
   "metadata": {},
   "source": [
    "### Calculate the RMSE for different types of users using KNN (K = 10)"
   ]
  },
  {
   "cell_type": "code",
   "execution_count": 38,
   "metadata": {
    "collapsed": false
   },
   "outputs": [
    {
     "name": "stdout",
     "output_type": "stream",
     "text": [
      "-----------------------------Result for RMSE_rating1------------------------------------\n",
      "1.28351134123\n",
      "-----------------------------Result for RMSE_rating2------------------------------------\n",
      "1.40303187901\n",
      "-----------------------------Result for RMSE_rating3------------------------------------\n",
      "1.18670441157\n",
      "-----------------------------Result for RMSE_rating4------------------------------------\n",
      "1.08475148229\n",
      "-----------------------------Result for RMSE_rating5------------------------------------\n",
      "0.907052523314\n"
     ]
    }
   ],
   "source": [
    "# For rating 1\n",
    "rating1 = data_ua_test[data_ua_test[\"user_id\"].isin(user_list_step1)]\n",
    "test_list_user, test_list_item, test_list_rating = get_list(rating1)\n",
    "RMSE_rating1_k_10 = cal_RMSE_KNN(test_list_user, test_list_item, test_list_rating, 10)\n",
    "\n",
    "print \"-----------------------------Result for RMSE_rating1------------------------------------\"\n",
    "print RMSE_rating1_k_10\n",
    "\n",
    "# For rating 2\n",
    "rating2 = data_ua_test[data_ua_test[\"user_id\"].isin(user_list_step2)]\n",
    "test_list_user, test_list_item, test_list_rating = get_list(rating2)\n",
    "RMSE_rating2_k_10 = cal_RMSE_KNN(test_list_user, test_list_item, test_list_rating, 10)\n",
    "\n",
    "print \"-----------------------------Result for RMSE_rating2------------------------------------\"\n",
    "print RMSE_rating2_k_10\n",
    "\n",
    "# For rating 3\n",
    "rating3 = data_ua_test[data_ua_test[\"user_id\"].isin(user_list_step3)]\n",
    "test_list_user, test_list_item, test_list_rating = get_list(rating3)\n",
    "RMSE_rating3_k_10 = cal_RMSE_KNN(test_list_user, test_list_item, test_list_rating, 10)\n",
    "\n",
    "print \"-----------------------------Result for RMSE_rating3------------------------------------\"\n",
    "print RMSE_rating3_k_10\n",
    "\n",
    "# For rating 4\n",
    "rating4 = data_ua_test[data_ua_test[\"user_id\"].isin(user_list_step4)]\n",
    "test_list_user, test_list_item, test_list_rating = get_list(rating4)\n",
    "RMSE_rating4_k_10 = cal_RMSE_KNN(test_list_user, test_list_item, test_list_rating, 10)\n",
    "\n",
    "print \"-----------------------------Result for RMSE_rating4------------------------------------\"\n",
    "print RMSE_rating4_k_10\n",
    "\n",
    "# For rating 5\n",
    "rating5 = data_ua_test[data_ua_test[\"user_id\"].isin(user_list_step5)]\n",
    "test_list_user, test_list_item, test_list_rating = get_list(rating5)\n",
    "RMSE_rating5_k_10 = cal_RMSE_KNN(test_list_user, test_list_item, test_list_rating, 10)\n",
    "\n",
    "print \"-----------------------------Result for RMSE_rating5------------------------------------\"\n",
    "print RMSE_rating5_k_10"
   ]
  },
  {
   "cell_type": "markdown",
   "metadata": {},
   "source": [
    "### Bar Chart - RMSE for different types of users using KNN (K = 10)"
   ]
  },
  {
   "cell_type": "code",
   "execution_count": 39,
   "metadata": {
    "collapsed": false
   },
   "outputs": [
    {
     "data": {
      "image/png": "[encoded data removed]",
      "text/plain": [
       "<matplotlib.figure.Figure at 0x115e28890>"
      ]
     },
     "metadata": {},
     "output_type": "display_data"
    }
   ],
   "source": [
    "# Set the data\n",
    "RMSE_test_ratings = [RMSE_rating1_k_10, RMSE_rating2_k_10, RMSE_rating3_k_10, RMSE_rating4_k_10, RMSE_rating5_k_10]\n",
    "n_bar = 5\n",
    "index = np.arange(n_bar)  \n",
    "bar_width = 0.8\n",
    "rects = plt.bar(index, RMSE_test_ratings, bar_width, alpha=0.5, color='b')  \n",
    "\n",
    "plt.xlabel('Ratings') \n",
    "plt.ylabel('RMSE')\n",
    "plt.title('RMSE for different types of users using KNN (K=10)') \n",
    "plt.xticks(index, ('1', '2', '3', '4', '5')) \n",
    "plt.ylim(0,2) \n",
    "\n",
    "plt.tight_layout()\n",
    "plt.show()"
   ]
  }
 ],
 "metadata": {
  "kernelspec": {
   "display_name": "Python 2",
   "language": "python",
   "name": "python2"
  },
  "language_info": {
   "codemirror_mode": {
    "name": "ipython",
    "version": 2
   },
   "file_extension": ".py",
   "mimetype": "text/x-python",
   "name": "python",
   "nbconvert_exporter": "python",
   "pygments_lexer": "ipython2",
   "version": "2.7.13"
  }
 },
 "nbformat": 4,
 "nbformat_minor": 2
}
